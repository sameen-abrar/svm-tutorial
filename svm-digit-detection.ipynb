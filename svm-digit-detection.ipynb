{
 "cells": [
  {
   "cell_type": "markdown",
   "metadata": {},
   "source": [
    "__Exercise__\n",
    "\n",
    "Train SVM classifier using sklearn digits dataset (i.e. from sklearn.datasets import load_digits) and then,\n",
    "\n",
    "- Measure accuracy of your model using different kernels such as rbf and linear.\n",
    "- Tune your model further using regularization and gamma parameters and try to come up with highest accurancy score\n",
    "- Use 80% of samples as training data size"
   ]
  }
 ],
 "metadata": {
  "language_info": {
   "name": "python"
  }
 },
 "nbformat": 4,
 "nbformat_minor": 2
}
